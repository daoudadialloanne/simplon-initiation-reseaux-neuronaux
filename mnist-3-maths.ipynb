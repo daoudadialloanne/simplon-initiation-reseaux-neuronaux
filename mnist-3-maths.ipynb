{
 "cells": [
  {
   "cell_type": "markdown",
   "metadata": {},
   "source": [
    "# Travail mathématique préparatoire aux réseaux neuronaux"
   ]
  },
  {
   "cell_type": "markdown",
   "metadata": {},
   "source": [
    "## Calcul matriciel"
   ]
  },
  {
   "cell_type": "markdown",
   "metadata": {},
   "source": [
    "### Addition de matrices\n",
    "Faire les opérations suivantes sur le papier en premier, puis vérifiez vos résultats en programmant l'opération matricielle en utilisant numpy."
   ]
  },
  {
   "cell_type": "markdown",
   "metadata": {},
   "source": [
    "$$\\begin{bmatrix}1 & 2 \\\\3 & 4 \\end{bmatrix} + \\begin{bmatrix}1 & 1 \\\\1 & 1 \\end{bmatrix} = \\begin{bmatrix}2 & 3 \\\\4 & 5 \\end{bmatrix} $$"
   ]
  },
  {
   "cell_type": "markdown",
   "metadata": {},
   "source": [
    "$$\\begin{bmatrix}1 & 1 \\\\1 & 1 \\end{bmatrix} +\\begin{bmatrix}1 & 0 \\\\0& 1 \\end{bmatrix} = \\begin{bmatrix}2 & 1 \\\\1 & 2 \\end{bmatrix}$$"
   ]
  },
  {
   "cell_type": "markdown",
   "metadata": {},
   "source": [
    "$$\\begin{bmatrix}1 & 2 \\\\3 & 4 \\end{bmatrix}+\\begin{bmatrix}0 & 0 \\\\0 & 0 \\end{bmatrix} = \\begin{bmatrix}1 & 2 \\\\3 & 4 \\end{bmatrix}$$"
   ]
  },
  {
   "cell_type": "markdown",
   "metadata": {},
   "source": [
    "$$\\begin{bmatrix}1 & 2 \\\\10 & 20 \\end{bmatrix} + \\begin{bmatrix}0\\\\ 1 \\end{bmatrix} =  $$ Addition non définie car les tailles ne correspondent pas"
   ]
  },
  {
   "cell_type": "markdown",
   "metadata": {},
   "source": [
    "$$\\begin{bmatrix}1 & 0 & 1 & 0 \\\\1 & 0 & 1 & 0 \\end{bmatrix}  .\\begin{bmatrix}1 & 1 & 1  \\\\ 2 & 2 & 1 \\\\ 3 & 3 & 3 \\\\ 4 & 4 & 4 \\end{bmatrix} = $$ Addition non définie car les tailles ne correspondent pas"
   ]
  },
  {
   "cell_type": "markdown",
   "metadata": {},
   "source": [
    "### Multiplication de matrices\n",
    "Faire les opérations suivantes sur le papier en premier, puis vérifiez vos résultats en programmant l'opération matricielle en utilisant numpy."
   ]
  },
  {
   "cell_type": "markdown",
   "metadata": {},
   "source": [
    "$$\\begin{bmatrix}1 & 2 \\\\3 & 4 \\end{bmatrix} . \\begin{bmatrix}1 & 1 \\\\1 & 1 \\end{bmatrix} = \\begin{bmatrix}3 & 3 \\\\7 & 7 \\end{bmatrix} $$"
   ]
  },
  {
   "cell_type": "markdown",
   "metadata": {},
   "source": [
    "$$\\begin{bmatrix}1 & 1 \\\\1 & 1 \\end{bmatrix} . \\begin{bmatrix}1 & 0 \\\\0& 1 \\end{bmatrix} = \\begin{bmatrix}1 & 1 \\\\1 & 1 \\end{bmatrix}$$"
   ]
  },
  {
   "cell_type": "markdown",
   "metadata": {},
   "source": [
    "$$\\begin{bmatrix}1 & 2 \\\\3 & 4 \\end{bmatrix} . \\begin{bmatrix}0 & 0 \\\\0 & 0 \\end{bmatrix} = \\begin{bmatrix}0 & 0 \\\\0 & 0 \\end{bmatrix}$$"
   ]
  },
  {
   "cell_type": "markdown",
   "metadata": {},
   "source": [
    "$$\\begin{bmatrix}1 & 1 \\\\1 & 1 \\end{bmatrix} .\\begin{bmatrix}0& 1 \\end{bmatrix} = $$\n",
    "non définie car les tailles ne correspondent pas (2, 2) * (1, 2)"
   ]
  },
  {
   "cell_type": "markdown",
   "metadata": {},
   "source": [
    "$$\\begin{bmatrix}1 & 2 \\\\10 & 20 \\end{bmatrix} .\\begin{bmatrix}0\\\\ 1 \\end{bmatrix} = \\begin{bmatrix}2\\\\ 20 \\end{bmatrix}$$"
   ]
  },
  {
   "cell_type": "markdown",
   "metadata": {},
   "source": [
    "$$\\begin{bmatrix}1 & 0 & 1 & 0 \\\\0 & 1 & 0 & 1\\end{bmatrix}  .\\begin{bmatrix}1 & 1 & 1  \\\\ 2 & 2 & 1 \\\\ 3 & 3 & 3 \\\\ 4 & 4 & 4 \\end{bmatrix} = \\begin{bmatrix}4 & 4 & 4  \\\\ 6 & 6 & 6 \\end{bmatrix} $$\n",
    "$$(2,4) . (4,3) \\Rightarrow (2, 3)$$"
   ]
  },
  {
   "cell_type": "markdown",
   "metadata": {},
   "source": [
    "## Descente de gradient\n",
    "Trouver un minimum d'une fonction f définie par"
   ]
  },
  {
   "cell_type": "markdown",
   "metadata": {},
   "source": [
    "$$f(x)=x^2-2*x+3$$"
   ]
  },
  {
   "cell_type": "markdown",
   "metadata": {},
   "source": [
    "La dérivé de $f$ est la fonction $f'$ définie par:\n",
    "$$ f'(x) = 2*x -2 $$"
   ]
  },
  {
   "cell_type": "code",
   "execution_count": 10,
   "metadata": {
    "jupyter": {
     "source_hidden": true
    }
   },
   "outputs": [
    {
     "data": {
      "image/png": "[encoded data removed]",
      "text/plain": [
       "<Figure size 640x400 with 1 Axes>"
      ]
     },
     "metadata": {
      "needs_background": "light"
     },
     "output_type": "display_data"
    }
   ],
   "source": [
    "from pylab import *\n",
    "import numpy as np\n",
    "\n",
    "figure(figsize=(8,5), dpi=80)\n",
    "subplot(111)\n",
    "\n",
    "X = np.linspace(-3, 5, 256,endpoint=True)\n",
    "C = np.power(X,2)-2*X+3\n",
    "plot(X, C, color=\"blue\", linewidth=2.5, linestyle=\"-\")\n",
    "\n",
    "ax = gca()\n",
    "ax.spines['right'].set_color('none')\n",
    "ax.spines['top'].set_color('none')\n",
    "ax.xaxis.set_ticks_position('bottom')\n",
    "ax.spines['bottom'].set_position(('data',0))\n",
    "ax.yaxis.set_ticks_position('left')\n",
    "ax.spines['left'].set_position(('data',0))\n",
    "\n",
    "xlim(X.min()*1.1, X.max()*1.1)\n",
    "ylim(-0.1,C.max()*1.1)\n",
    "\n",
    "show()"
   ]
  },
  {
   "cell_type": "markdown",
   "metadata": {},
   "source": [
    "Le but de cet exercice et de retrouver le minimum de la fonction f en utilisant l'algorithme de descente de gradient. On connaît déjà ce minimum en calculant la valeur de x pour laquelle $$ f'(x) = 0$$"
   ]
  },
  {
   "cell_type": "markdown",
   "metadata": {},
   "source": [
    "### Mininum"
   ]
  },
  {
   "cell_type": "markdown",
   "metadata": {},
   "source": [
    "Calculer la valeur de x donnant le minimum de $f$ grâce à $f'$."
   ]
  },
  {
   "cell_type": "markdown",
   "metadata": {},
   "source": [
    "$$ f'(x) = 0$$\n",
    "$$\\Leftrightarrow 2*x - 2 = 0$$\n",
    "$$\\Leftrightarrow 2*x = 2$$\n",
    "$$\\Leftrightarrow x = 1$$"
   ]
  },
  {
   "cell_type": "markdown",
   "metadata": {},
   "source": [
    "### Simple initialisation"
   ]
  },
  {
   "cell_type": "markdown",
   "metadata": {},
   "source": [
    "Coder l'algorithme en utilisant comme point de départ $x_{init} = -2$ "
   ]
  },
  {
   "cell_type": "code",
   "execution_count": 14,
   "metadata": {},
   "outputs": [
    {
     "name": "stdout",
     "output_type": "stream",
     "text": [
      "Minimum trouvé: 0.9953577248526797\n"
     ]
    }
   ],
   "source": [
    "def f(x):\n",
    "    return x*x-2*x+3\n",
    "\n",
    "def grad_f(x):\n",
    "    return 2*x-2\n",
    "\n",
    "# taux d'apprentisssasge = learning rate\n",
    "eta = 0.1\n",
    "# marge d'erreur\n",
    "epsilon = 0.00001\n",
    "\n",
    "x_init = -2\n",
    "minimum = False\n",
    "while not minimum:\n",
    "    x_final = x_init - eta * grad_f(x_init)\n",
    "    if abs(f(x_final)-f(x_init)) < epsilon :\n",
    "        minimum = True\n",
    "    else:\n",
    "        x_init = x_final\n",
    "\n",
    "print('Minimum trouvé:', x_init)"
   ]
  },
  {
   "cell_type": "markdown",
   "metadata": {},
   "source": [
    "### Initialisation multiple"
   ]
  },
  {
   "cell_type": "markdown",
   "metadata": {},
   "source": [
    "Faire le test avec un batch de plusieurs points initiaux utilisés simultanément: `[-2, -1, 5]` . Est ce que ça fonctionne encore?"
   ]
  },
  {
   "cell_type": "code",
   "execution_count": 19,
   "metadata": {},
   "outputs": [
    {
     "data": {
      "text/plain": [
       "0.6666666666666666"
      ]
     },
     "execution_count": 19,
     "metadata": {},
     "output_type": "execute_result"
    }
   ],
   "source": [
    "import numpy as np\n",
    "np.mean([-2, -1, 5])"
   ]
  },
  {
   "cell_type": "code",
   "execution_count": 22,
   "metadata": {},
   "outputs": [
    {
     "name": "stdout",
     "output_type": "stream",
     "text": [
      "Minimum trouvé: 0.9995873533202381\n",
      "liste des points en cours: [0.9962861798821437, 0.9975241199214293, 1.0049517601571414]\n"
     ]
    }
   ],
   "source": [
    "x_init = [-2, -1, 5]\n",
    "x_final = [0, 0, 0]\n",
    "n = len(x_init)\n",
    "minimum = False\n",
    "while not minimum:\n",
    "    for i in range(n):\n",
    "        x_final[i] = x_init[i] - eta * grad_f(x_init[i])\n",
    "        mean_distance = 0\n",
    "        mean_distance += abs(f(x_final[i])-f(x_init[i]))\n",
    "    if abs(f(x_final[i])-f(x_init[i])) < epsilon :\n",
    "        minimum = True\n",
    "    else:\n",
    "        x_init = x_final.copy()\n",
    "\n",
    "print('Minimum trouvé:', np.mean(x_init))\n",
    "print('liste des points en cours:', x_init)"
   ]
  },
  {
   "cell_type": "code",
   "execution_count": null,
   "metadata": {},
   "outputs": [],
   "source": []
  }
 ],
 "metadata": {
  "kernelspec": {
   "display_name": "Python 3",
   "language": "python",
   "name": "python3"
  },
  "language_info": {
   "codemirror_mode": {
    "name": "ipython",
    "version": 3
   },
   "file_extension": ".py",
   "mimetype": "text/x-python",
   "name": "python",
   "nbconvert_exporter": "python",
   "pygments_lexer": "ipython3",
   "version": "3.7.4"
  }
 },
 "nbformat": 4,
 "nbformat_minor": 4
}
